{
  "nbformat": 4,
  "nbformat_minor": 0,
  "metadata": {
    "colab": {
      "provenance": [],
      "authorship_tag": "ABX9TyPvtlsXIGZq+s6b43mCtqEX",
      "include_colab_link": true
    },
    "kernelspec": {
      "name": "python3",
      "display_name": "Python 3"
    },
    "language_info": {
      "name": "python"
    }
  },
  "cells": [
    {
      "cell_type": "markdown",
      "metadata": {
        "id": "view-in-github",
        "colab_type": "text"
      },
      "source": [
        "<a href=\"https://colab.research.google.com/github/hqu/DPI-852M/blob/main/In_Class_programming_exercise_1_roll_2_dice.ipynb\" target=\"_parent\"><img src=\"https://colab.research.google.com/assets/colab-badge.svg\" alt=\"Open In Colab\"/></a>"
      ]
    },
    {
      "cell_type": "markdown",
      "source": [
        "# **Roll 2 Dice: In-class programming exercise**\n",
        "\n",
        "## Write code to for each step to simulate rolling 2 dice multiple times and save their total values to plot a histogram.\n",
        "\n"
      ],
      "metadata": {
        "id": "cmNDC7Tnvl4n"
      }
    },
    {
      "cell_type": "markdown",
      "source": [
        "Step 0: Import the **random** module"
      ],
      "metadata": {
        "id": "wFIjIe71zCzk"
      }
    },
    {
      "cell_type": "code",
      "execution_count": null,
      "metadata": {
        "id": "uMS-uo59vksn"
      },
      "outputs": [],
      "source": [
        "import random"
      ]
    },
    {
      "cell_type": "markdown",
      "source": [
        "Step 1: Use Python's [random number generator](https://www.w3schools.com/python/ref_random_randint.asp) to roll 1 die; create a variable **single_die_roll** to store that value\n"
      ],
      "metadata": {
        "id": "8iq0MOLqzPAB"
      }
    },
    {
      "cell_type": "code",
      "source": [
        "#WRITE YOUR CODE HERE"
      ],
      "metadata": {
        "id": "7-fZAmWszc0B"
      },
      "execution_count": null,
      "outputs": []
    },
    {
      "cell_type": "markdown",
      "source": [
        "Step 2: Create a variable **single_die_roll** to store that value"
      ],
      "metadata": {
        "id": "q3b_jeuUznBQ"
      }
    },
    {
      "cell_type": "code",
      "source": [
        "#WRITE YOUR CODE HERE"
      ],
      "metadata": {
        "id": "F8WAAxwB0CD2"
      },
      "execution_count": null,
      "outputs": []
    },
    {
      "cell_type": "markdown",
      "source": [
        "Step 3: Create a new [Function](https://www.w3schools.com/python/python_functions.asp) called **roll_dice()** that generates 2 integers; save these 2 values in 2 variables **roll_die_1** and **roll_die_2**"
      ],
      "metadata": {
        "id": "aL0zpbT10DS2"
      }
    },
    {
      "cell_type": "code",
      "source": [
        "#WRITE YOUR CODE HERE"
      ],
      "metadata": {
        "id": "vUFr4cxO0NbQ"
      },
      "execution_count": null,
      "outputs": []
    },
    {
      "cell_type": "markdown",
      "source": [
        "Step 4: *Revise the Function*: Inside the roll_dice() function, create a [List](https://www.w3schools.com/python/python_lists.asp) call **double_dice_roll** and [append](https://www.w3schools.com/python/python_lists_add.asp) these 2 integers into that List"
      ],
      "metadata": {
        "id": "RVAbeHid0QA2"
      }
    },
    {
      "cell_type": "code",
      "source": [
        "#WRITE YOUR CODE HERE"
      ],
      "metadata": {
        "id": "xxL6hVsC0PCt"
      },
      "execution_count": null,
      "outputs": []
    },
    {
      "cell_type": "markdown",
      "source": [
        "Step 5: *Revise the Function*: [Return](https://www.w3schools.com/python/gloss_python_function_return_value.asp) the List **double_dice_roll**"
      ],
      "metadata": {
        "id": "AkImDXwu0XqY"
      }
    },
    {
      "cell_type": "code",
      "source": [
        "#WRITE YOUR CODE HERE"
      ],
      "metadata": {
        "id": "EaqwRt0Q0p9G"
      },
      "execution_count": null,
      "outputs": []
    },
    {
      "cell_type": "markdown",
      "source": [
        "Step 6: Call the **roll_dice()** and print out the value of **double_dice_roll**"
      ],
      "metadata": {
        "id": "pA8ih5C10wNS"
      }
    },
    {
      "cell_type": "code",
      "source": [
        "#WRITE YOUR CODE HERE"
      ],
      "metadata": {
        "id": "oYE-tWho2daO"
      },
      "execution_count": null,
      "outputs": []
    },
    {
      "cell_type": "markdown",
      "source": [
        "Step 7: Create a new Function called **sum_numbers_in_list()** that accepts a single [argument](https://www.w3schools.com/python/gloss_python_function_arguments.asp#:~:text=The%20terms%20parameter%20and%20argument,function%20when%20it%20is%20called.) (a List with 2 numbers) and returns their sum (how to look up [look up](https://www.w3schools.com/python/python_lists_access.asp) the values inside a List)"
      ],
      "metadata": {
        "id": "zqp9_Aoz3iEa"
      }
    },
    {
      "cell_type": "code",
      "source": [
        "#WRITE YOUR CODE HERE"
      ],
      "metadata": {
        "id": "2HmG0N883e9p"
      },
      "execution_count": null,
      "outputs": []
    },
    {
      "cell_type": "markdown",
      "source": [
        "Step 8: Create another List called **rolls_total_values**"
      ],
      "metadata": {
        "id": "lMX7I-j03r-K"
      }
    },
    {
      "cell_type": "code",
      "source": [
        "#WRITE YOUR CODE HERE"
      ],
      "metadata": {
        "id": "t5IKOIWQ3noO"
      },
      "execution_count": null,
      "outputs": []
    },
    {
      "cell_type": "markdown",
      "source": [
        "Step 9: Write For Loop that does 3 steps: **1. roll dice 50,000 times**; 2. call the sum_numbers_in_list() function to calculate the sum; 3. append the sum to **rolls_total_values** List"
      ],
      "metadata": {
        "id": "lDLcad5TNMTi"
      }
    },
    {
      "cell_type": "code",
      "source": [
        "#WRITE YOUR CODE HERE"
      ],
      "metadata": {
        "id": "wIGqVa-TNNDV"
      },
      "execution_count": null,
      "outputs": []
    },
    {
      "cell_type": "markdown",
      "source": [
        "Step 10: Print out the **rolls_total_values** List"
      ],
      "metadata": {
        "id": "po1ZRYfANSD-"
      }
    },
    {
      "cell_type": "code",
      "source": [
        "#WRITE YOUR CODE HERE"
      ],
      "metadata": {
        "id": "qSCtSOkNNSfL"
      },
      "execution_count": null,
      "outputs": []
    },
    {
      "cell_type": "markdown",
      "source": [
        "Step 11: Plot a [Histogram](https://www.w3schools.com/python/matplotlib_histograms.asp) of all 50000 dice rolls which are stored in the **rolls_total_values** List"
      ],
      "metadata": {
        "id": "ISMl5IlJNNTK"
      }
    },
    {
      "cell_type": "code",
      "source": [
        "#WRITE YOUR CODE HERE"
      ],
      "metadata": {
        "id": "9KFCRAThNcoI"
      },
      "execution_count": null,
      "outputs": []
    },
    {
      "cell_type": "markdown",
      "source": [
        "Step 12: Save the values of the 50000 dice rols in a CSV files"
      ],
      "metadata": {
        "id": "9Cg9F3mUxeJn"
      }
    },
    {
      "cell_type": "code",
      "source": [
        "# prompt: Save the values of the 100 dice rols in a CSV files\n",
        "\n",
        "import csv\n",
        "import random\n",
        "\n",
        "# Create a CSV file\n",
        "with open('dice_rolls.csv', 'w', newline='') as csvfile:\n",
        "    # Create a CSV writer\n",
        "    csvwriter = csv.writer(csvfile)\n",
        "\n",
        "    # Write the header row\n",
        "    csvwriter.writerow(['Roll 1', 'Roll 2', 'Total'])\n",
        "\n",
        "    # Write the data rows\n",
        "    for i in range(100):\n",
        "        # Roll the dice\n",
        "        roll_1, roll_2 = random.randint(1, 6), random.randint(1, 6)\n",
        "\n",
        "        # Calculate the total\n",
        "        total = roll_1 + roll_2\n",
        "\n",
        "        # Write the data row\n",
        "        csvwriter.writerow([roll_1, roll_2, total])\n"
      ],
      "metadata": {
        "id": "suEM2AySxn9N"
      },
      "execution_count": null,
      "outputs": []
    },
    {
      "cell_type": "markdown",
      "source": [
        "Step 13: Download the CSV file (click the folder icon in the left navigation menu) and upload it to your GitHub account."
      ],
      "metadata": {
        "id": "dZ1GoG6ly80q"
      }
    },
    {
      "cell_type": "markdown",
      "source": [
        "## **Challenge**\n",
        "Create a Function called roll_x_times().  Ask the user to [input](https://www.w3schools.com/python/python_user_input.asp) how many rolls and produced a histogram chart."
      ],
      "metadata": {
        "id": "GweJ9KnSNc56"
      }
    },
    {
      "cell_type": "markdown",
      "source": [
        "# END"
      ],
      "metadata": {
        "id": "G2t4Y3wAzOCO"
      }
    }
  ]
}